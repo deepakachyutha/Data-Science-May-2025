{
 "cells": [
  {
   "cell_type": "code",
   "execution_count": 1,
   "id": "430181a8",
   "metadata": {},
   "outputs": [
    {
     "name": "stdout",
     "output_type": "stream",
     "text": [
      "Requirement already satisfied: numpy in c:\\users\\deepa\\appdata\\local\\programs\\python\\python313\\lib\\site-packages (2.2.4)\n",
      "Note: you may need to restart the kernel to use updated packages.\n"
     ]
    },
    {
     "name": "stderr",
     "output_type": "stream",
     "text": [
      "\n",
      "[notice] A new release of pip is available: 24.3.1 -> 25.0.1\n",
      "[notice] To update, run: python.exe -m pip install --upgrade pip\n"
     ]
    }
   ],
   "source": [
    "pip install numpy"
   ]
  },
  {
   "cell_type": "code",
   "execution_count": 7,
   "id": "92dae887",
   "metadata": {},
   "outputs": [
    {
     "data": {
      "text/plain": [
       "array([100, 100, 100, 100, 100])"
      ]
     },
     "execution_count": 7,
     "metadata": {},
     "output_type": "execute_result"
    }
   ],
   "source": [
    "import numpy as np\n",
    "a = np.array([0,0,0,0,0,0,0,0,0,0])\n",
    "b = np.full_like(a,1)\n",
    "c = np.full((5),100)\n",
    "a = b.copy()\n",
    "c"
   ]
  },
  {
   "cell_type": "code",
   "execution_count": 3,
   "id": "921de06b",
   "metadata": {},
   "outputs": [
    {
     "data": {
      "text/plain": [
       "array([[1, 1, 1, 1, 1],\n",
       "       [1, 1, 1, 1, 1]])"
      ]
     },
     "execution_count": 3,
     "metadata": {},
     "output_type": "execute_result"
    }
   ],
   "source": [
    "a = np.array([1,2,3,4,5,6])\n",
    "b = b.reshape(2,5)\n",
    "a =a.reshape(3,2)\n",
    "\n",
    "z = np.random.rand(3,4)\n",
    "z=z*10\n",
    "z.astype(np.int32)\n",
    "b\n"
   ]
  },
  {
   "cell_type": "code",
   "execution_count": 4,
   "id": "844ee3e2",
   "metadata": {},
   "outputs": [
    {
     "data": {
      "text/plain": [
       "np.float64(14.935517121126352)"
      ]
     },
     "execution_count": 4,
     "metadata": {},
     "output_type": "execute_result"
    }
   ],
   "source": [
    "z = z*10\n",
    "value, count = np.unique(z, return_counts=True)\n",
    "index = np.argmax(count)\n",
    "max = value[index]\n",
    "max"
   ]
  },
  {
   "cell_type": "code",
   "execution_count": null,
   "id": "0b9ca0b1",
   "metadata": {},
   "outputs": [
    {
     "data": {
      "text/plain": [
       "array([[1, 1, 1, 1, 1, 1],\n",
       "       [1, 0, 0, 0, 0, 1],\n",
       "       [1, 0, 0, 0, 0, 1],\n",
       "       [1, 0, 0, 0, 0, 1],\n",
       "       [1, 0, 0, 0, 0, 1],\n",
       "       [1, 1, 1, 1, 1, 1]])"
      ]
     },
     "execution_count": 24,
     "metadata": {},
     "output_type": "execute_result"
    }
   ],
   "source": [
    "a = np.arange(0,36)\n",
    "a = a.reshape(6,6)\n",
    "a[0,:] = 1\n",
    "a[:,0] = 1\n",
    "a[-1,:] = 1\n",
    "a[:,-1] = 1\n",
    "a"
   ]
  },
  {
   "cell_type": "code",
   "execution_count": 53,
   "id": "c3054282",
   "metadata": {},
   "outputs": [
    {
     "data": {
      "text/plain": [
       "np.float64(0.08367376976412899)"
      ]
     },
     "execution_count": 53,
     "metadata": {},
     "output_type": "execute_result"
    }
   ],
   "source": [
    "a = np.arange(0,36)\n",
    "a = a.reshape(6,6)\n",
    "a[::-1,::-1]\n",
    "a = np.random.uniform(0,1, size=(1000))\n",
    "np.var(a)"
   ]
  },
  {
   "cell_type": "code",
   "execution_count": 19,
   "id": "b92ed6bf",
   "metadata": {},
   "outputs": [
    {
     "name": "stdout",
     "output_type": "stream",
     "text": [
      "[14 -1 32 -1 10 -1 -1 -1 -1  2]\n"
     ]
    }
   ],
   "source": [
    "a = np.random.randint(0,50, size=(10))\n",
    "a[a%3 ==0] = -1\n",
    "print(a)\n",
    "a[np.isnan(a)]= np.nanmean(a)"
   ]
  },
  {
   "cell_type": "code",
   "execution_count": 31,
   "id": "042c6cdb",
   "metadata": {},
   "outputs": [
    {
     "data": {
      "text/plain": [
       "array([[ 35.4, -12.8,  33.4,  11. , -21.2],\n",
       "       [-26.6,  47.2, -47.6, -27. , -16.2],\n",
       "       [ 11.4, -35.8,   0.4,  30. ,  39.8],\n",
       "       [ -8.6,  41.2,  28.4,  -5. ,  14.8],\n",
       "       [-11.6, -39.8, -14.6,  -9. , -17.2]])"
      ]
     },
     "execution_count": 31,
     "metadata": {},
     "output_type": "execute_result"
    }
   ],
   "source": [
    "a = np.random.randint(0,100, size=(5,5))\n",
    "col = a.mean(axis=0)\n",
    "a-col"
   ]
  },
  {
   "cell_type": "code",
   "execution_count": 35,
   "id": "a6d2f5cc",
   "metadata": {},
   "outputs": [
    {
     "name": "stdout",
     "output_type": "stream",
     "text": [
      "[1 2 3 4 5 6 7 8]\n",
      "[4 5]\n",
      "[1 2 3]\n"
     ]
    }
   ],
   "source": [
    "a = np.arange(1,6)\n",
    "b = np.arange(4,9)\n",
    "print(np.union1d(a,b))\n",
    "print(np.intersect1d(a,b))\n",
    "print(np.setdiff1d(a,b))"
   ]
  },
  {
   "cell_type": "code",
   "execution_count": 45,
   "id": "c9e57ea5",
   "metadata": {},
   "outputs": [
    {
     "name": "stdout",
     "output_type": "stream",
     "text": [
      "0.0\n",
      "2\n",
      "EigResult(eigenvalues=array([ 1.16411822e+02+0.00000000e+00j, -5.41182151e+00+0.00000000e+00j,\n",
      "       -1.29522752e-15+3.03403945e-15j, -1.29522752e-15-3.03403945e-15j,\n",
      "       -3.36522484e-15+0.00000000e+00j,  1.73182808e-15+0.00000000e+00j]), eigenvectors=array([[-0.08190341+0.j        ,  0.63110943+0.j        ,\n",
      "        -0.22481244+0.23752107j, -0.22481244-0.23752107j,\n",
      "         0.32514027+0.j        ,  0.02966602+0.j        ],\n",
      "       [-0.19353989+0.j        ,  0.39298443+0.j        ,\n",
      "         0.68634984+0.j        ,  0.68634984-0.j        ,\n",
      "        -0.62687855+0.j        ,  0.28386664+0.j        ],\n",
      "       [-0.30517638+0.j        ,  0.15485944+0.j        ,\n",
      "        -0.35278768-0.40954769j, -0.35278768+0.40954769j,\n",
      "         0.56403408+0.j        , -0.45282174+0.j        ],\n",
      "       [-0.41681286+0.j        , -0.08326555+0.j        ,\n",
      "        -0.2747546 -0.03214635j, -0.2747546 +0.03214635j,\n",
      "        -0.40243915+0.j        , -0.32864799+0.j        ],\n",
      "       [-0.52844934+0.j        , -0.32139055+0.j        ,\n",
      "        -0.01346493+0.1053304j , -0.01346493-0.1053304j ,\n",
      "        -0.0054111 +0.j        ,  0.73196456+0.j        ],\n",
      "       [-0.64008582+0.j        , -0.55951554+0.j        ,\n",
      "         0.17946981+0.09884256j,  0.17946981-0.09884256j,\n",
      "         0.14555445+0.j        , -0.26402749+0.j        ]]))\n",
      "[[36 35 34 33 32 31]\n",
      " [30 29 28 27 26 25]\n",
      " [24 23 22 21 20 19]\n",
      " [18 17 16 15 14 13]\n",
      " [12 11 10  9  8  7]\n",
      " [ 6  5  4  3  2  1]]\n"
     ]
    }
   ],
   "source": [
    "a = np.arange(1,37)\n",
    "a = a.reshape(6,6)\n",
    "print(np.linalg.det(a))\n",
    "print(np.linalg.matrix_rank(a))\n",
    "print(np.linalg.eig(a))\n",
    "print(a[::-1,::-1])"
   ]
  },
  {
   "cell_type": "code",
   "execution_count": null,
   "id": "a8e35c61",
   "metadata": {},
   "outputs": [],
   "source": []
  }
 ],
 "metadata": {
  "kernelspec": {
   "display_name": "Python 3",
   "language": "python",
   "name": "python3"
  },
  "language_info": {
   "codemirror_mode": {
    "name": "ipython",
    "version": 3
   },
   "file_extension": ".py",
   "mimetype": "text/x-python",
   "name": "python",
   "nbconvert_exporter": "python",
   "pygments_lexer": "ipython3",
   "version": "3.13.2"
  }
 },
 "nbformat": 4,
 "nbformat_minor": 5
}
