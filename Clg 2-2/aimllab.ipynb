{
 "cells": [
  {
   "cell_type": "code",
   "execution_count": 3,
   "id": "2a2a9e3d",
   "metadata": {},
   "outputs": [
    {
     "name": "stdout",
     "output_type": "stream",
     "text": [
      "a    1\n",
      "b    2\n",
      "c    3\n",
      "d    4\n",
      "dtype: int64\n",
      "i      1\n",
      "ii     2\n",
      "iii    3\n",
      "iv     4\n",
      "dtype: int64\n"
     ]
    }
   ],
   "source": [
    "#1.a\n",
    "import pandas as pd\n",
    "data = [1,2,3,4]\n",
    "lables = ['a','b','c','d']\n",
    "s = pd.Series(data, lables)\n",
    "print(s)\n",
    "\n",
    "s = pd.Series(data, index=['i','ii','iii','iv'])\n",
    "print(s)"
   ]
  },
  {
   "cell_type": "code",
   "execution_count": 5,
   "id": "42a2dfcd",
   "metadata": {},
   "outputs": [
    {
     "data": {
      "text/plain": [
       "Name1      Alice\n",
       "Name2        Bob\n",
       "Name3    Charlie\n",
       "dtype: object"
      ]
     },
     "execution_count": 5,
     "metadata": {},
     "output_type": "execute_result"
    }
   ],
   "source": [
    "#1.b\n",
    "data = {\n",
    "    'a' : 10,\n",
    "    'b' : 20,\n",
    "    'c' : 30,\n",
    "}\n",
    "s = pd.Series(data)\n",
    "s\n",
    "\n",
    "data = {\n",
    "    'Name1' : 'Alice',\n",
    "    'Name2' : 'Bob',\n",
    "    'Name3' : 'Charlie',\n",
    "}\n",
    "s = pd.Series(data)\n",
    "s"
   ]
  },
  {
   "cell_type": "code",
   "execution_count": 17,
   "id": "1ec98f5e",
   "metadata": {},
   "outputs": [
    {
     "name": "stdout",
     "output_type": "stream",
     "text": [
      "<class 'pandas.core.frame.DataFrame'>\n",
      "RangeIndex: 10 entries, 0 to 9\n",
      "Data columns (total 4 columns):\n",
      " #   Column   Non-Null Count  Dtype \n",
      "---  ------   --------------  ----- \n",
      " 0   Roll No  10 non-null     int64 \n",
      " 1   Name     10 non-null     object\n",
      " 2   Address  10 non-null     object\n",
      " 3   Marks    10 non-null     int64 \n",
      "dtypes: int64(2), object(2)\n",
      "memory usage: 452.0+ bytes\n"
     ]
    }
   ],
   "source": [
    "D = {\n",
    "    'Roll No' : [101, 102, 103, 104, 105, 106, 107, 108, 109, 110],\n",
    "    'Name' : ['A', 'B', 'C', 'D', 'E', 'F', 'G', 'H', 'I', 'J'],\n",
    "    'Address' : ['A1', 'B1', 'C1', 'D1', 'E1', 'F1', 'G1', 'H1', 'I1', 'J1'],\n",
    "    'Marks' : [90, 80, 70, 60, 50, 40, 30, 20, 10, 0]\n",
    "}\n",
    "df = pd.DataFrame(D)\n",
    "df.info()"
   ]
  },
  {
   "cell_type": "code",
   "execution_count": 29,
   "id": "c57ced73",
   "metadata": {},
   "outputs": [
    {
     "data": {
      "image/png": "[encoded data removed]",
      "text/plain": [
       "<Figure size 640x480 with 1 Axes>"
      ]
     },
     "metadata": {},
     "output_type": "display_data"
    },
    {
     "data": {
      "image/png": "[encoded data removed]",
      "text/plain": [
       "<Figure size 640x480 with 1 Axes>"
      ]
     },
     "metadata": {},
     "output_type": "display_data"
    }
   ],
   "source": [
    "import matplotlib.pyplot as plt\n",
    "my_dict = {\n",
    "    'Name' : ['Raju', 'Rani', 'Ravi', 'Rani'],\n",
    "    'Marks': [20, 30, 40, 50]\n",
    "}\n",
    "df = pd.DataFrame(my_dict)\n",
    "df.plot.bar(x='Name', y='Marks')\n",
    "df.plot(kind='scatter', x='Name', y='Marks')\n",
    "plt.show()"
   ]
  },
  {
   "cell_type": "code",
   "execution_count": 30,
   "id": "57e9e99a",
   "metadata": {},
   "outputs": [
    {
     "name": "stdout",
     "output_type": "stream",
     "text": [
      "A B C D E G F "
     ]
    }
   ],
   "source": [
    "graph = {\n",
    "    'A' : ['B', 'C', 'D'],\n",
    "    'B' : ['A', 'E', 'C'],\n",
    "    'C' : ['B', 'E', 'G'],\n",
    "    'D' : ['A', 'E'],\n",
    "    'E' : ['A', 'D', 'B', 'F'],\n",
    "    'F' : ['E', 'G'],\n",
    "    'G' : []\n",
    "}\n",
    "visited = []\n",
    "queue = []\n",
    "def bfs(visited, graph, node):\n",
    "    visited.append(node)\n",
    "    queue.append(node)\n",
    "    while queue:\n",
    "        m = queue.pop(0)\n",
    "        print(m, end=\" \")\n",
    "        for neighbour in graph[m]:\n",
    "            if neighbour not in visited:\n",
    "                visited.append(neighbour)\n",
    "                queue.append(neighbour)\n",
    "bfs(visited, graph, 'A')"
   ]
  },
  {
   "cell_type": "code",
   "execution_count": null,
   "id": "ced18b1f",
   "metadata": {},
   "outputs": [
    {
     "name": "stdout",
     "output_type": "stream",
     "text": [
      "s->b->h->g->e->Goal reached: e\n"
     ]
    }
   ],
   "source": [
    "import pandas as pd\n",
    "import heapq\n",
    "\n",
    "def bestfs(graph, huristic, goal, start):\n",
    "    visited = set()\n",
    "    pq = []\n",
    "    heapq.heappush(pq,(huristic[start], start))\n",
    "    \n",
    "    while pq:\n",
    "        _, current = heapq.heappop(pq)\n",
    "        print(current, end = \"->\")\n",
    "        if current == goal:\n",
    "            return f\"Goal reached: {goal}\"\n",
    "        if current in visited:\n",
    "            continue\n",
    "        visited.add(current)\n",
    "\n",
    "        for neighbour in graph[current]:\n",
    "            if neighbour not in visited:\n",
    "                heapq.heappush(pq,(huristic[neighbour], neighbour))\n",
    "\n",
    "    return \"Goal not reachable\"\n",
    "\n",
    "graph ={\n",
    "    's' : ['a', 'b', 'c'],\n",
    "    'b' : ['d','h'],\n",
    "    'h' : ['g'],\n",
    "    'g' : ['e']\n",
    "}\n",
    "huristic = {\n",
    "    's' : 10, 'a' : 9, 'b' : 7, 'c' : 8, 'd' : 8, 'h': 6, 'f' : 5,'g':3, 'e' : 0\n",
    "}\n",
    "start = 's'\n",
    "goal = 'e'\n",
    "print(bestfs(graph, huristic, goal, start)) \n"
   ]
  },
  {
   "cell_type": "code",
   "execution_count": 42,
   "id": "06f4f2cd",
   "metadata": {},
   "outputs": [
    {
     "name": "stdout",
     "output_type": "stream",
     "text": [
      "A\n",
      "B\n",
      "E\n",
      "D\n",
      "F\n",
      "G\n",
      "C\n"
     ]
    }
   ],
   "source": [
    "graph = {\n",
    "    'A' : ['B','D','E'],\n",
    "    'B' : ['A','E','C'],\n",
    "    'C' : ['B','E','G'],\n",
    "    'D' : ['A','E'],\n",
    "    'E' : ['A','D','B','F'],\n",
    "    'F' : ['E','G'],\n",
    "    'G' : []\n",
    "\n",
    "}\n",
    "visited = set()\n",
    "def dfs(visited, graph, node):\n",
    "    if node not in visited:\n",
    "        print(node)\n",
    "        visited.add(node)\n",
    "        for neighbour in graph[node]:\n",
    "            dfs(visited, graph, neighbour)\n",
    "\n",
    "dfs(visited, graph, 'A')"
   ]
  },
  {
   "cell_type": "code",
   "execution_count": 49,
   "id": "629b04ea",
   "metadata": {},
   "outputs": [
    {
     "name": "stdout",
     "output_type": "stream",
     "text": [
      "Path not found\n",
      "Path not found\n",
      "Path not found\n",
      "Path not found\n",
      "Path not found\n",
      "Path not found\n",
      "Path not found\n",
      "Path not found\n",
      "Path not found\n",
      "Path found: ->  ['A', 'A', 'D', 'E', 'F', 'G']\n"
     ]
    }
   ],
   "source": [
    "import heapq\n",
    "def pure_heuristic_search(graph, heuristic, start, goal):\n",
    "    priority_queue = []\n",
    "    heapq.heappush(priority_queue,(heuristic[start], start, [start]))\n",
    "    visited = set()\n",
    "    while priority_queue:\n",
    "        n, current, path = heapq.heappop(priority_queue)\n",
    "        path = path + [current]\n",
    "        if current == goal:\n",
    "            print(\"Path found: -> \", path)\n",
    "            return\n",
    "        visited.add(current)\n",
    "        for i in graph[current]:\n",
    "            if i not in visited:\n",
    "                heapq.heappush(priority_queue,(heuristic[i], i, path))\n",
    "                print('Path not found')\n",
    "\n",
    "graph = {\n",
    "    'A' : ['B','C', 'D'],\n",
    "    'B' : ['C'],\n",
    "    'C' : ['D'],\n",
    "    'D' : ['E'],\n",
    "    'E' : ['F'],\n",
    "    'F' : ['G'],\n",
    "    'G' : []\n",
    "}\n",
    "heuristic = {\n",
    "    'A' : 1, 'B' :3, 'C': 4, 'D':5, 'E': 2, 'F':3, 'G':0    \n",
    "}\n",
    "start = 'A'\n",
    "goal = 'G'\n",
    "pure_heuristic_search(graph, heuristic, start, goal)"
   ]
  },
  {
   "cell_type": "code",
   "execution_count": 50,
   "id": "50f3db15",
   "metadata": {},
   "outputs": [
    {
     "name": "stdout",
     "output_type": "stream",
     "text": [
      "✅ Path found:  A -> B -> C -> D -> E -> F -> G\n"
     ]
    }
   ],
   "source": [
    "import heapq\n",
    "\n",
    "def pure_heuristic_search(graph, heuristic, start, goal):\n",
    "    priority_queue = []\n",
    "    heapq.heappush(priority_queue, (heuristic[start], start, [start]))\n",
    "    visited = set()\n",
    "\n",
    "    while priority_queue:\n",
    "        h, current, path = heapq.heappop(priority_queue)\n",
    "\n",
    "        if current == goal:\n",
    "            print(\"✅ Path found: \", \" -> \".join(path))\n",
    "            return\n",
    "\n",
    "        if current in visited:\n",
    "            continue\n",
    "\n",
    "        visited.add(current)\n",
    "\n",
    "        for neighbor in graph[current]:\n",
    "            if neighbor not in visited:\n",
    "                heapq.heappush(priority_queue, (heuristic[neighbor], neighbor, path + [neighbor]))\n",
    "\n",
    "    print(\"❌ Path not found\")\n",
    "\n",
    "# Your graph and heuristic\n",
    "graph = {\n",
    "    'A' : ['B','C', 'D'],\n",
    "    'B' : ['C'],\n",
    "    'C' : ['D'],\n",
    "    'D' : ['E'],\n",
    "    'E' : ['F'],\n",
    "    'F' : ['G'],\n",
    "    'G' : []\n",
    "}\n",
    "heuristic = {\n",
    "    'A': 1, 'B': 3, 'C': 4, 'D': 5, 'E': 2, 'F': 3, 'G': 0\n",
    "}\n",
    "\n",
    "# Run it\n",
    "pure_heuristic_search(graph, heuristic, 'A', 'G')\n"
   ]
  }
 ],
 "metadata": {
  "kernelspec": {
   "display_name": "Python 3",
   "language": "python",
   "name": "python3"
  },
  "language_info": {
   "codemirror_mode": {
    "name": "ipython",
    "version": 3
   },
   "file_extension": ".py",
   "mimetype": "text/x-python",
   "name": "python",
   "nbconvert_exporter": "python",
   "pygments_lexer": "ipython3",
   "version": "3.13.2"
  }
 },
 "nbformat": 4,
 "nbformat_minor": 5
}
