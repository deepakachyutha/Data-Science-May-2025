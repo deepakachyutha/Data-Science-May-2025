{
 "cells": [
  {
   "cell_type": "code",
   "execution_count": 10,
   "metadata": {},
   "outputs": [
    {
     "name": "stdout",
     "output_type": "stream",
     "text": [
      "             Name  Age      City  Salary                         Department\n",
      "0   Micheal Scott   45  Scranton   65000                            Manager\n",
      "1    Jim Harlpert   32    Austin   45000                              Sales\n",
      "2      Pam Beesly   30  New York   30000                       Receptionist\n",
      "3  Dwight Schrute   35    Berlin   50000  Assistent To The Regional Manager\n",
      "4    Kelly Kapoor   28     Delhi   40000                   Customer Service\n",
      "             Name  Age        City  Salary         Department\n",
      "8   Creed Bratton   68      Dallas   28000  Quality Assurance\n",
      "9   Phyllis Vance   43    Scranton   32000              Sales\n",
      "10  Angela Martin   30  Pittsburgh   35000         Accounting\n"
     ]
    }
   ],
   "source": [
    "import pandas as pd\n",
    "office = pd.DataFrame({\n",
    "    'Name' : ['Micheal Scott', 'Jim Harlpert', 'Pam Beesly', 'Dwight Schrute','Kelly Kapoor','Kevin Malone','Oscar Martinez','Rayn Howard','Creed Bratton','Phyllis Vance','Angela Martin'],\n",
    "    'Age' : [45,32,30,35,28,48,46,25,68,43,30],\n",
    "    'City' : ['Scranton','Austin','New York','Berlin','Delhi','Philadelphia','Mexico City','New York','Dallas','Scranton','Pittsburgh'],\n",
    "    'Salary' : [65000, 45000, 30000, 50000, 40000, 38000, 48000,20000,28000,32000,35000],\n",
    "    'Department' : [\"Manager\",\"Sales\",\"Receptionist\",\"Assistent To The Regional Manager\",\"Customer Service\",\"Accounting\",\"Accounting\",\"Coustomer Service\",\"Quality Assurance\",\"Sales\",\"Accounting\"],\n",
    "})\n",
    "\n",
    "print(office.head(5))\n",
    "print(office.tail(3))\n",
    "office.to_csv('office.csv', index=False)"
   ]
  }
 ],
 "metadata": {
  "kernelspec": {
   "display_name": "Python 3",
   "language": "python",
   "name": "python3"
  },
  "language_info": {
   "codemirror_mode": {
    "name": "ipython",
    "version": 3
   },
   "file_extension": ".py",
   "mimetype": "text/x-python",
   "name": "python",
   "nbconvert_exporter": "python",
   "pygments_lexer": "ipython3",
   "version": "3.13.2"
  }
 },
 "nbformat": 4,
 "nbformat_minor": 2
}
