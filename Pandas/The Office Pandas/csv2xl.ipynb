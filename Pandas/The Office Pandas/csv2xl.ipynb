{
 "cells": [
  {
   "cell_type": "code",
   "execution_count": 53,
   "metadata": {},
   "outputs": [],
   "source": [
    "import pandas as pd\n",
    "import openpyxl \n",
    "office = pd.read_csv('office.csv')\n",
    "new_office = pd.DataFrame({\n",
    "    'Name' : ['Stanley Hudson'],\n",
    "    'Age' : [55],\n",
    "    'city' : [''],\n",
    "    'Salary' : [50000],\n",
    "    'Department' : [\"Sales\"],\n",
    "    \n",
    "})\n",
    "new_office.to_csv('office.csv', mode='a', header=False, index=False)\n",
    "office = pd.read_csv('office.csv')\n",
    "office.to_excel('office.xlsx', index=False)\n"
   ]
  }
 ],
 "metadata": {
  "kernelspec": {
   "display_name": "Python 3",
   "language": "python",
   "name": "python3"
  },
  "language_info": {
   "codemirror_mode": {
    "name": "ipython",
    "version": 3
   },
   "file_extension": ".py",
   "mimetype": "text/x-python",
   "name": "python",
   "nbconvert_exporter": "python",
   "pygments_lexer": "ipython3",
   "version": "3.13.2"
  }
 },
 "nbformat": 4,
 "nbformat_minor": 2
}
